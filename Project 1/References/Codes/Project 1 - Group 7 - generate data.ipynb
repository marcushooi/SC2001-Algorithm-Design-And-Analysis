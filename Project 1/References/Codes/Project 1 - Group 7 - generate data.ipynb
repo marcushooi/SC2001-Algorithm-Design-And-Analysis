{
 "cells": [
  {
   "cell_type": "markdown",
   "id": "e83d3d55",
   "metadata": {},
   "source": [
    "# Project 1\n",
    "## Integration of Mergesort & Insertion Sort"
   ]
  },
  {
   "cell_type": "code",
   "execution_count": 3,
   "id": "629fffd2",
   "metadata": {},
   "outputs": [
    {
     "ename": "ModuleNotFoundError",
     "evalue": "No module named 'pandas'",
     "output_type": "error",
     "traceback": [
      "\u001b[1;31m---------------------------------------------------------------------------\u001b[0m",
      "\u001b[1;31mModuleNotFoundError\u001b[0m                       Traceback (most recent call last)",
      "Cell \u001b[1;32mIn[3], line 2\u001b[0m\n\u001b[0;32m      1\u001b[0m \u001b[39mimport\u001b[39;00m \u001b[39mtime\u001b[39;00m\n\u001b[1;32m----> 2\u001b[0m \u001b[39mimport\u001b[39;00m \u001b[39mpandas\u001b[39;00m \u001b[39mas\u001b[39;00m \u001b[39mpd\u001b[39;00m\n\u001b[0;32m      3\u001b[0m \u001b[39mimport\u001b[39;00m \u001b[39mnumpy\u001b[39;00m \u001b[39mas\u001b[39;00m \u001b[39mnp\u001b[39;00m\n\u001b[0;32m      4\u001b[0m \u001b[39mimport\u001b[39;00m \u001b[39mmatplotlib\u001b[39;00m\u001b[39m.\u001b[39;00m\u001b[39mpyplot\u001b[39;00m \u001b[39mas\u001b[39;00m \u001b[39mplt\u001b[39;00m\n",
      "\u001b[1;31mModuleNotFoundError\u001b[0m: No module named 'pandas'"
     ]
    }
   ],
   "source": [
    "import time\n",
    "import pandas as pd\n",
    "import numpy as np\n",
    "import matplotlib.pyplot as plt"
   ]
  },
  {
   "cell_type": "markdown",
   "id": "088ca207",
   "metadata": {},
   "source": [
    "### a) Algorithm Implementation"
   ]
  },
  {
   "cell_type": "markdown",
   "id": "f0eab32f",
   "metadata": {},
   "source": [
    "### Insertion Sort"
   ]
  },
  {
   "cell_type": "code",
   "execution_count": 2,
   "id": "3b449422",
   "metadata": {},
   "outputs": [],
   "source": [
    "def insertionSort(arr):\n",
    "   \n",
    "    for i in range(1, len(arr)): # Traverse through array from index 1\n",
    " \n",
    "        key = arr[i] # Pick up value at each index starting from index 1\n",
    "\n",
    "        j = i-1 # j is to present the indexes before the key index\n",
    "        while j >= 0 and key < arr[j] :\n",
    "            arr[j + 1] = arr[j]\n",
    "            j -= 1\n",
    "            # While the elements before the key are greater than the key\n",
    "            # Move elements one to the right \n",
    "        arr[j + 1] = key \n",
    "        # Once the element is smaller than the key\n",
    "        # Insert the key to the right of that element\n",
    "    return arr"
   ]
  },
  {
   "cell_type": "markdown",
   "id": "6e1119fe",
   "metadata": {},
   "source": [
    "### Hybrid Sort"
   ]
  },
  {
   "cell_type": "markdown",
   "id": "6191dbe3",
   "metadata": {},
   "source": [
    "#### Merge Function"
   ]
  },
  {
   "cell_type": "code",
   "execution_count": 39,
   "id": "5bb7aad8",
   "metadata": {},
   "outputs": [],
   "source": [
    "def merge(arr):\n",
    "    i = 0\n",
    "    j = len(arr)//2\n",
    "    \n",
    "    \n",
    "    while i < j and j < len(arr):\n",
    "        if arr[i] < arr[j]:\n",
    "            i += 1\n",
    "\n",
    "        elif arr[i] > arr[j]:\n",
    "            item = arr[j]\n",
    "            arr[i+1:j+1] = arr[i:j]\n",
    "            arr[i] = item\n",
    "            i += 1\n",
    "            j += 1\n",
    "        else:\n",
    "            item = arr[j]\n",
    "            arr[i+2:j+1] = arr[i+1:j]\n",
    "            arr[i+1] = item\n",
    "            i += 2\n",
    "            j += 1\n",
    "            \n",
    "    return arr"
   ]
  },
  {
   "cell_type": "code",
   "execution_count": 40,
   "id": "62e4aa51",
   "metadata": {},
   "outputs": [],
   "source": [
    "def hybridSort(arr,S):\n",
    "    if len(arr)<=1:\n",
    "        return arr\n",
    "    \n",
    "    if len(arr) > S:\n",
    "        m = len(arr)//2 # Find midpoint m\n",
    " \n",
    "        # Sort first and second halves\n",
    "        arr[:m] = hybridSort(arr[:m],S)\n",
    "        arr[m:] = hybridSort(arr[m:],S)\n",
    "        arr = merge(arr)\n",
    "        \n",
    "        return arr\n",
    "    else:\n",
    "        arr = insertionSort(arr)\n",
    "        return arr"
   ]
  },
  {
   "cell_type": "code",
   "execution_count": 42,
   "id": "4f508bba",
   "metadata": {},
   "outputs": [
    {
     "name": "stdout",
     "output_type": "stream",
     "text": [
      "[1, 2, 3, 3, 3, 3, 4, 5, 6, 7, 8, 9, 10, 11, 12]\n"
     ]
    }
   ],
   "source": [
    "arr = [3,6,8,9,2,1,4,5,10,7,12,11,3,3,3]\n",
    "hybridSort(arr,4)\n",
    "print(arr)"
   ]
  },
  {
   "cell_type": "markdown",
   "id": "56f4471a",
   "metadata": {},
   "source": [
    "## b) Generate input data"
   ]
  },
  {
   "cell_type": "code",
   "execution_count": 43,
   "id": "747f218d",
   "metadata": {},
   "outputs": [
    {
     "name": "stdout",
     "output_type": "stream",
     "text": [
      "size of array1:  1000\n",
      "size of array2:  10000\n",
      "size of array3:  100000\n",
      "size of array4:  1000000\n",
      "size of array5:  10000000\n"
     ]
    }
   ],
   "source": [
    "from random import seed\n",
    "from random import randint\n",
    "\n",
    "array1 = []\n",
    "array2 = []\n",
    "array3 = []\n",
    "array4 = []\n",
    "array5 = []\n",
    "x = 1000\n",
    "\n",
    "for i in range(10000000):\n",
    "    if i%10000 == 0:\n",
    "        array1.append(randint(1,x))\n",
    "    if i%1000 == 0:\n",
    "        array2.append(randint(1,x))\n",
    "    if i%100 == 0:\n",
    "        array3.append(randint(1,x))\n",
    "    if i%10 == 0:\n",
    "        array4.append(randint(1,x))\n",
    "        \n",
    "    array5.append(randint(1,x))\n",
    "    \n",
    "print(\"size of array1: \", len(array1))\n",
    "print(\"size of array2: \", len(array2))\n",
    "print(\"size of array3: \", len(array3))\n",
    "print(\"size of array4: \", len(array4))\n",
    "print(\"size of array5: \", len(array5))"
   ]
  },
  {
   "cell_type": "code",
   "execution_count": null,
   "id": "3c5930a7",
   "metadata": {},
   "outputs": [],
   "source": []
  }
 ],
 "metadata": {
  "kernelspec": {
   "display_name": "Python 3",
   "language": "python",
   "name": "python3"
  },
  "language_info": {
   "codemirror_mode": {
    "name": "ipython",
    "version": 3
   },
   "file_extension": ".py",
   "mimetype": "text/x-python",
   "name": "python",
   "nbconvert_exporter": "python",
   "pygments_lexer": "ipython3",
   "version": "3.9.13"
  },
  "vscode": {
   "interpreter": {
    "hash": "6a646f4b8e5514ff7fbe507bf6fd5d2a164f5fbcb9e155427a96dc3eda594c5b"
   }
  }
 },
 "nbformat": 4,
 "nbformat_minor": 5
}
