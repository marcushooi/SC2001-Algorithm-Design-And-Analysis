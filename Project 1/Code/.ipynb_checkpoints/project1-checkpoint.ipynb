{
 "cells": [
  {
   "cell_type": "markdown",
   "id": "31cb559b",
   "metadata": {},
   "source": [
    "# SC2001 Project 1 (Lab Group A33, Group 1)\n",
    "## Integration of Mergesort & Insertion Sort\n"
   ]
  },
  {
   "cell_type": "markdown",
   "id": "71cdec47",
   "metadata": {},
   "source": [
    "> In Mergesort, when the sizes of subarrays are small, the overhead of many recursive calls makes the algorithm inefficient. Therefore, in real use, we often combine Mergesort with Insertion Sort to come up with a hybrid sorting algorithm for better efficiency. The idea is to set a small integer S as a threshold for the size of subarrays. <br><br>\n",
    "> Once the size of a subarray in a recursive call of Mergesort is less than or equal to S, the algorithm will switch to Insertion Sort, which is efficient for small-sized input.\n"
   ]
  },
  {
   "cell_type": "code",
   "execution_count": 3,
   "id": "c80c0ff5",
   "metadata": {},
   "outputs": [],
   "source": [
    "# Imports\n",
    "import time\n",
    "import pandas as pd\n",
    "import numpy as np\n",
    "import matplotlib.pyplot as plt\n",
    "\n",
    "# Setting seed to ensure that our data does not change in the future.\n",
    "np.random.seed(10)"
   ]
  },
  {
   "cell_type": "markdown",
   "id": "350963b0",
   "metadata": {},
   "source": [
    "### a) Algorithm Implementation"
   ]
  },
  {
   "cell_type": "markdown",
   "id": "edf48a39",
   "metadata": {},
   "source": [
    "> Implement the above hybrid algorithm."
   ]
  },
  {
   "cell_type": "markdown",
   "id": "7104a7c7",
   "metadata": {},
   "source": [
    "### Insertion Sort"
   ]
  },
  {
   "cell_type": "code",
   "execution_count": 4,
   "id": "f21d1b03",
   "metadata": {},
   "outputs": [],
   "source": [
    "def insertionSort(arr):\n",
    "    \n",
    "    # Traverse for each element from index 1 to end of list. First element can be ignored.\n",
    "    for i in range(1, len(arr)):\n",
    "        key = arr[i] # Pick out the element at the i-th position\n",
    "        j = i-1 # j will be the running index for all the elements before elem\n",
    "        \n",
    "        while j >= 0 and key < arr[j]: # While it hasn't reached the first element and the key is smaller than the previous elements, we will shift the j-th element to the j+1-th position\n",
    "            arr[j+1] = arr[j]\n",
    "            j-=1\n",
    "        \n",
    "        arr[j+1] = key # If we reach an element that is smaller than the key or the start of the list (j=-1), we will insert the key to the right of that element or at index 0 if it reached start of list.\n",
    "    return arr"
   ]
  },
  {
   "cell_type": "markdown",
   "id": "fcec099f",
   "metadata": {},
   "source": [
    "### Hybrid Sort"
   ]
  },
  {
   "cell_type": "code",
   "execution_count": 5,
   "id": "b790ddee",
   "metadata": {},
   "outputs": [],
   "source": [
    "# Merge function which will be used in the hybrid sort when merge sort is chosen over insertion sort.\n",
    "\n",
    "def merge(arr1,arr2):\n",
    "    # initialise indices for each array\n",
    "    i = 0\n",
    "    j = 0\n",
    "    \n",
    "    # initialise final sorted array\n",
    "    sorted_arr = []\n",
    "    \n",
    "    # While both halves are not empty, we compare the 1st elements of the 2 lists\n",
    "    while i != len(arr1) and j != len(arr2):\n",
    "        # if first element of 1st list is smaller, 1st element of first half joins the end of the merged list\n",
    "        if arr1[i] < arr2[j]:\n",
    "            sorted_arr.append(arr1[i])\n",
    "            i += 1\n",
    "        # else if 1st element of 2nd list is smaller, move the 1st element of 2nd half to the end of the merged list\n",
    "        elif arr2[j] < arr1[i]:\n",
    "            sorted_arr.append(arr2[j])\n",
    "            j += 1\n",
    "        # else if they are equal, move both the 1st element of the first list and the second list to the merged list\n",
    "        else:\n",
    "            sorted_arr.append(arr1[i])\n",
    "            sorted_arr.append(arr2[j])\n",
    "            i += 1\n",
    "            j += 1\n",
    "    # if first list still has elements, copy all the elements in the first list to the merged list\n",
    "    while i != len(arr1):\n",
    "        sorted_arr.append(arr1[i])\n",
    "        i += 1\n",
    "    # if second list still has elements, copy all the elements in the second list to the merged list\n",
    "    while j != len(arr2):\n",
    "        sorted_arr.append(arr2[j])\n",
    "        j += 1\n",
    "    return sorted_arr"
   ]
  },
  {
   "cell_type": "code",
   "execution_count": 6,
   "id": "51d1e291",
   "metadata": {},
   "outputs": [],
   "source": [
    "# Hybrid Sort takes in parameters of an array and array size limit S.\n",
    "# If array size is <= S, insertion sort will be used \n",
    "# If array size is > S , merge sort will be used instead\n",
    "\n",
    "def hybridSort(arr,S):\n",
    "    # Base case. Array has 1 element.\n",
    "    if len(arr) <= 1:\n",
    "        return arr\n",
    "    \n",
    "    # Recursive step\n",
    "    \n",
    "    # Merge Sort \n",
    "    if len(arr) > S:\n",
    "        # Use the middle element to divide the array into two halves\n",
    "        m = len(arr)//2\n",
    "        \n",
    "        # Sort first half recursively\n",
    "        arr[:m] = hybridSort(arr[:m],S)\n",
    "        # Sort second half recursively\n",
    "        arr[m:] = hybridSort(arr[m:], S)\n",
    "        arr = merge(arr[:m], arr[m:])\n",
    "        return arr\n",
    "    \n",
    "    # Insertion Sort\n",
    "    else:\n",
    "        arr = insertionSort(arr)\n",
    "        return arr"
   ]
  },
  {
   "cell_type": "markdown",
   "id": "4b4d4c58",
   "metadata": {},
   "source": [
    "### Testing the sorting algorithms\n"
   ]
  },
  {
   "cell_type": "code",
   "execution_count": 7,
   "id": "04fc58c4",
   "metadata": {},
   "outputs": [
    {
     "name": "stdout",
     "output_type": "stream",
     "text": [
      "[-8, -1, 0, 2, 3, 3, 3, 3, 4, 7, 10, 11, 12, 43, 59, 100]\n"
     ]
    }
   ],
   "source": [
    "arr = [4,2,10,100,3,59,43,-1,-8,0,7,12,11,3,3,3]\n",
    "\n",
    "print(hybridSort(arr,3))"
   ]
  },
  {
   "cell_type": "markdown",
   "id": "a9900f78",
   "metadata": {},
   "source": [
    "## b) Generate input data"
   ]
  },
  {
   "cell_type": "markdown",
   "id": "a68ddfb0",
   "metadata": {},
   "source": [
    "> Generate arrays of increasing sizes, in a range from\n",
    "1,000 to 10 million. For each of the sizes, generate a random dataset of integers in the range of [1, …, x], where x is the largest number you allow for your datasets."
   ]
  },
  {
   "cell_type": "code",
   "execution_count": 8,
   "id": "dc39d6e8",
   "metadata": {},
   "outputs": [
    {
     "name": "stdout",
     "output_type": "stream",
     "text": [
      "[1000, 2000, 3000, 4000, 5000, 6000, 7000, 8000, 9000, 10000, 20000, 30000, 40000, 50000, 60000, 70000, 80000, 90000, 100000, 200000, 300000, 400000, 500000, 600000, 700000, 800000, 900000, 1000000, 2000000, 3000000, 4000000, 5000000, 6000000, 7000000, 8000000, 9000000, 10000000]\n"
     ]
    }
   ],
   "source": [
    "# Generate the required sizes of the arrays programatically from the range of 1,000 to 10 million.\n",
    "\n",
    "inputDataSizes = []\n",
    "\n",
    "for i in range(10):\n",
    "    inputDataSizes.append((i+1) * 1000)\n",
    "    inputDataSizes.append((i+1) * 10000)\n",
    "    inputDataSizes.append((i+1) * 100000)\n",
    "    inputDataSizes.append((i+1) * 1000000)\n",
    "\n",
    "# Remove duplicates and sort the input data sizes\n",
    "inputDataSizes = sorted(set(inputDataSizes))\n",
    "print(inputDataSizes)"
   ]
  },
  {
   "cell_type": "code",
   "execution_count": 9,
   "id": "a6b6ec02",
   "metadata": {},
   "outputs": [
    {
     "name": "stdout",
     "output_type": "stream",
     "text": [
      "Array Size:  1000\n",
      "Min of this array: 1\n",
      "Max of this array: 999\n",
      "\n",
      "Array Size:  2000\n",
      "Min of this array: 3\n",
      "Max of this array: 1998\n",
      "\n",
      "Array Size:  3000\n",
      "Min of this array: 2\n",
      "Max of this array: 2998\n",
      "\n",
      "Array Size:  4000\n",
      "Min of this array: 1\n",
      "Max of this array: 4000\n",
      "\n",
      "Array Size:  5000\n",
      "Min of this array: 3\n",
      "Max of this array: 4999\n",
      "\n",
      "Array Size:  6000\n",
      "Min of this array: 1\n",
      "Max of this array: 5999\n",
      "\n",
      "Array Size:  7000\n",
      "Min of this array: 1\n",
      "Max of this array: 6999\n",
      "\n",
      "Array Size:  8000\n",
      "Min of this array: 2\n",
      "Max of this array: 7999\n",
      "\n",
      "Array Size:  9000\n",
      "Min of this array: 4\n",
      "Max of this array: 9000\n",
      "\n",
      "Array Size:  10000\n",
      "Min of this array: 2\n",
      "Max of this array: 10000\n",
      "\n",
      "Array Size:  20000\n",
      "Min of this array: 1\n",
      "Max of this array: 19999\n",
      "\n",
      "Array Size:  30000\n",
      "Min of this array: 1\n",
      "Max of this array: 30000\n",
      "\n",
      "Array Size:  40000\n",
      "Min of this array: 1\n",
      "Max of this array: 39998\n",
      "\n",
      "Array Size:  50000\n",
      "Min of this array: 3\n",
      "Max of this array: 50000\n",
      "\n",
      "Array Size:  60000\n",
      "Min of this array: 1\n",
      "Max of this array: 59999\n",
      "\n",
      "Array Size:  70000\n",
      "Min of this array: 1\n",
      "Max of this array: 70000\n",
      "\n",
      "Array Size:  80000\n",
      "Min of this array: 2\n",
      "Max of this array: 80000\n",
      "\n",
      "Array Size:  90000\n",
      "Min of this array: 1\n",
      "Max of this array: 90000\n",
      "\n",
      "Array Size:  100000\n",
      "Min of this array: 1\n",
      "Max of this array: 100000\n",
      "\n",
      "Array Size:  200000\n",
      "Min of this array: 3\n",
      "Max of this array: 199997\n",
      "\n",
      "Array Size:  300000\n",
      "Min of this array: 2\n",
      "Max of this array: 299999\n",
      "\n",
      "Array Size:  400000\n",
      "Min of this array: 2\n",
      "Max of this array: 400000\n",
      "\n",
      "Array Size:  500000\n",
      "Min of this array: 2\n",
      "Max of this array: 499997\n",
      "\n",
      "Array Size:  600000\n",
      "Min of this array: 1\n",
      "Max of this array: 600000\n",
      "\n",
      "Array Size:  700000\n",
      "Min of this array: 5\n",
      "Max of this array: 700000\n",
      "\n",
      "Array Size:  800000\n",
      "Min of this array: 2\n",
      "Max of this array: 799999\n",
      "\n",
      "Array Size:  900000\n",
      "Min of this array: 2\n",
      "Max of this array: 900000\n",
      "\n",
      "Array Size:  1000000\n",
      "Min of this array: 2\n",
      "Max of this array: 1000000\n",
      "\n",
      "Array Size:  2000000\n",
      "Min of this array: 1\n",
      "Max of this array: 2000000\n",
      "\n",
      "Array Size:  3000000\n",
      "Min of this array: 1\n",
      "Max of this array: 3000000\n",
      "\n",
      "Array Size:  4000000\n",
      "Min of this array: 1\n",
      "Max of this array: 3999999\n",
      "\n",
      "Array Size:  5000000\n",
      "Min of this array: 1\n",
      "Max of this array: 5000000\n",
      "\n",
      "Array Size:  6000000\n",
      "Min of this array: 1\n",
      "Max of this array: 5999998\n",
      "\n",
      "Array Size:  7000000\n",
      "Min of this array: 3\n",
      "Max of this array: 7000000\n",
      "\n",
      "Array Size:  8000000\n",
      "Min of this array: 1\n",
      "Max of this array: 8000000\n",
      "\n",
      "Array Size:  9000000\n",
      "Min of this array: 2\n",
      "Max of this array: 8999997\n",
      "\n",
      "Array Size:  10000000\n",
      "Min of this array: 1\n",
      "Max of this array: 9999998\n",
      "\n"
     ]
    }
   ],
   "source": [
    "# List of List of data\n",
    "inputData = []\n",
    "\n",
    "# Iterate through the data sizes array\n",
    "for s in inputDataSizes:\n",
    "    # For each datasize, we generate a random data array of size (s), each array will contain random integers from 1 to s.\n",
    "    data = np.random.randint(1,s+1,size = s)\n",
    "    inputData.append(data)\n",
    "    \n",
    "# Checking for the array of size 1000 that the generation was done correctly.    \n",
    "for i in range(len(inputData)):\n",
    "    print(\"Array Size: \", len(inputData[i]))\n",
    "    print(\"Min of this array:\" , min(inputData[i]))\n",
    "    print(\"Max of this array:\" , max(inputData[i]))\n",
    "    print()"
   ]
  },
  {
   "cell_type": "code",
   "execution_count": 12,
   "id": "56fd280c",
   "metadata": {},
   "outputs": [
    {
     "name": "stdout",
     "output_type": "stream",
     "text": [
      "[266 126 997 528 321 370 124 157 986 734 497 926 882   9  74 257 491  41\n",
      " 503 421 372 529 357 240 396  55 345 364 123 575 546 201 869 975 690 692\n",
      "  55  78 454  14 756 410 383 654 861 343 799 671  90 653 322 544 826 805\n",
      " 284 531  94  78 407 920 607 761 396 669  75 217 394  16 531 465 631  72\n",
      " 345 396 658 431 136 716 797 802 469 763 865 473  45 646   5  72 345 857\n",
      " 819 365 183 291 361 784 462 857 656 135 247 598 747 663 524 625 781 733\n",
      " 481  63 503 186 592 365 233 555 750 314 748 866 819 558 937 986 714 678\n",
      " 641 915 536 516 798 785 341 339 625 527  52  80 244 786 691  54 922 367\n",
      " 945 235 786 417 338 746 465  42  91 269 499 287 210 402 145 129 672 358\n",
      " 202 961 757 381 423 767 535 609 835  68 447  96 356 924  83  63 759 590\n",
      " 507 364  49 374 990 750 460 628 471 422 780 918 930 608 684 985 737 742\n",
      "  74 681 358 428 748 347 584 649 726 329 413 256 878 543 124 986 666 207\n",
      " 466 214 959  14 682 930 517 728 351 541 552 348 104 778 264 151  33 772\n",
      " 522 181 973 709 159 455 377 885 331 799 138 259 962 507 999 628 491 654\n",
      " 460 437 646 222 341 945 959 811 675 169  47 929 504 351  87 187 454 377\n",
      " 814  19 435 497 557 386 320 876 718 531 924 596 678 456 473 104 656  56\n",
      " 903 813  10 819   1 557 325 271 494 118 389 903  43 202 557 369 764 997\n",
      " 475 807 405 906 553 657 332 424 315 210 552 562 128 994 396 207 363 848\n",
      " 534 454 433 317 827 398 361 516 928 205 472 146 926 454 691 564 661   6\n",
      " 248 877 711 190 233 913 715 645 919 788 598 714 292 633 292 113 268 554\n",
      " 311 979  20 298 978 702 395  37 513 252 159 831 598 289 491 617 978 270\n",
      " 964 247 893 928 289 737 935 166 208 188 360 533 928  90 637 257 353 282\n",
      " 576 828 259 543  18 828 199 960  87 542 107 712 349 276 506 641 392 252\n",
      " 478 939 600 826 763 209   3 675  59 461 651  80 929 838 761 220 145 518\n",
      " 890  64 852 844 683 890 423 186 136 985 737 874 551 879 561 668 366 321\n",
      " 690 475 266 284 309 347 826 945 114 363  24 410 660 561 489 738 333 588\n",
      " 606 287 800 157 102 976 213 150 725 228 687 943 302 479 853 149 434 290\n",
      " 643 482 866 227 781 339 495 206  67 550 672 313 210 344 466 383  56 866\n",
      " 587 761  16 976 849  39 440 886  50 987 643 839 738 902 969 542 497 276\n",
      "  26  16 183 612 481 851 697 554 347  27 459   9 477 161 328 344 965 215\n",
      "  15 292 469 112 678 112 575 580 527 678 826 975 621 291 948 819 179 470\n",
      "  15 889 437 927  82 999 523 830 280 130 541 571 267 248 524 898 510 211\n",
      " 675 120 652  47 331 677 903 576 760 317   4 307  60 762 163 662 401 872\n",
      " 147  62 695 635 957 406 383 984  84 584 145 452 679 668 481 728  99  90\n",
      " 758 242 657 595 660 754 627 865  51 985 489 137 983 118 460 201 601 233\n",
      " 155 337 119 413 155 863 642 348 899 729 317 436 654 334 794 190 425 391\n",
      " 872 112 934  82  71 378 935 766 108 504 742 479 259 933 331 313 922 467\n",
      " 481 827 401 471 383 297 608 239 423   5 408  59 936 129 423 885 463 622\n",
      " 458 237 232 283 850 646 258 397 228  87 372 498   1 200   1 827 539 788\n",
      " 467 968 902 542 258 318 157 903 854 244 344 348 627 772 869 391 741 611\n",
      "  92 567 649 841 523 106 698 341 389 216 450 392  73 940 561 345 890 171\n",
      "  22 728 111 915 276 463 742 228 161 664 728 944 825 304 803 225 356 786\n",
      " 490 353  97 368 510 403 638 837 131 528 938 456  98 875 564 582 165 715\n",
      "  29 850 312 201 391 273 896 789 516 433 461 589 187  66 595 792 537 457\n",
      " 311 977 628  22 695 660 352 311   4 624 611 410 682  15 714 584 167 434\n",
      " 791 625 610  48 160 815  99 390 399 845 273 221 533 467 266 825 678 611\n",
      " 263 671 580 968 199 310 185 270 380 779 573 640 639 546 939 129 473 951\n",
      " 569 677 984 879 835 503 615 518 184 914 770 714 436 974 142 994 520 510\n",
      " 795 523 501 751 255 167 889 266 867 935 951 699 674 791 859 329 439 580\n",
      " 297 767 989 944 688 744 771 109 536 238 894 416 834 569 805 600 645 591\n",
      " 100 316 727 287 941 616 773 728 294 879 768 835 572 548 579 698 187 769\n",
      " 693 136 123 670  43 755 457 721 755 520 161  85 972 269 593 758 615 101\n",
      " 993 970 322 550 585 238 424 543 296 582 168 609 186 995 793 264 852 486\n",
      " 298  20 998 632 921 929  16 215 117 162 255 358  67 458 399 294 665 506\n",
      "  84  20  64 848 932 710 352 630 474 636 826 548  95 868 759 323 915 252\n",
      " 261 640 972 481 832 653 603  59 459 912]\n"
     ]
    }
   ],
   "source": [
    "print(inputData[0])"
   ]
  },
  {
   "cell_type": "code",
   "execution_count": null,
   "id": "59a17b52",
   "metadata": {},
   "outputs": [],
   "source": []
  }
 ],
 "metadata": {
  "kernelspec": {
   "display_name": "Python 3",
   "language": "python",
   "name": "python3"
  },
  "language_info": {
   "codemirror_mode": {
    "name": "ipython",
    "version": 3
   },
   "file_extension": ".py",
   "mimetype": "text/x-python",
   "name": "python",
   "nbconvert_exporter": "python",
   "pygments_lexer": "ipython3",
   "version": "3.8.8"
  }
 },
 "nbformat": 4,
 "nbformat_minor": 5
}
