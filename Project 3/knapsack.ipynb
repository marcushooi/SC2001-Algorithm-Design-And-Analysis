{
 "cells": [
  {
   "attachments": {},
   "cell_type": "markdown",
   "metadata": {},
   "source": [
    "# Project 3: Dynamic Programming"
   ]
  },
  {
   "attachments": {},
   "cell_type": "markdown",
   "metadata": {},
   "source": [
    "## Q1. Give a recursive definition of the function P(C)."
   ]
  },
  {
   "attachments": {},
   "cell_type": "markdown",
   "metadata": {},
   "source": [
    "# Base Case\n",
    "P(C) = 0 if C, Capacity, is 0.\n",
    "\n",
    "- Represents the scenario when the knapsack has a capacity of 0, or have no free space. Hence, no objects can fit into the knapsack, and the maximum profit is ZERO since no objects can be sold.\n",
    "\n",
    "# Recursive Case\n",
    "P(C) = max[P(C - wi) + pi] if wi ≤ C, for 0 ≤ i < N\n",
    "\n",
    "- For every capacity level, e.g. from 0 to 10 spaces, we will have to consider the maximum profit of every object from index 0 to N-1.\n",
    "- If the weight of the current object is less than the available capacity C, there is space in the knapsack to store the object. Thus, we can include the object and recursively call how much profit we will get from including the object. i.e. Calculate P(C - Wi) + Pi\n",
    "- Finally, we will calculate the maximum of each of these cases and return the value."
   ]
  },
  {
   "attachments": {},
   "cell_type": "markdown",
   "metadata": {},
   "source": [
    "## Q2. Draw the subproblem graph for P(14) where n is 3 with the weights and profits given in the table."
   ]
  },
  {
   "attachments": {},
   "cell_type": "markdown",
   "metadata": {},
   "source": [
    "![Subproblem Graph Image](./Subproblem_Graph.png)"
   ]
  },
  {
   "attachments": {},
   "cell_type": "markdown",
   "metadata": {},
   "source": [
    "**Explanation:**\n",
    "- The numbers in the circle represents the total capacity of the knapsack.\n",
    "- The case will rely on the maximum capacities of the knapsack after adding a particular item inside."
   ]
  },
  {
   "attachments": {},
   "cell_type": "markdown",
   "metadata": {},
   "source": [
    "## Q3. Give a dynamic programming algorithm to compute the maximum profit, given a knapsack of capacity C, n types of objects with weights wi and profits pi using the bottom up approach."
   ]
  },
  {
   "attachments": {},
   "cell_type": "markdown",
   "metadata": {},
   "source": [
    "**Definition of Bottom-Up Approach:**\n",
    "A technique that involves decomposing the original problems into multiple smaller sub-problems. Thereafter, we will solve the smallest sub-problems and use their solutions to solve the larger sub-problems until we can solve the original problem.\n",
    "\n",
    "**Psuedocode**\n",
    "\n",
    "    int unboundedKnapsack(int C) { \n",
    "        //initialise values - use 1-D array \n",
    "        for i = 0 to C profit[i] = 0; \n",
    "        //loop through capacity\n",
    "        for i=1 to C\n",
    "            //loop through all items \n",
    "            for j=1 to num\n",
    "                // set the total profit P to the maximum between including or not including the current item \n",
    "                If (w[j] <= i)\n",
    "                    profit[i] = max(profit[i],P[i-weight[j]]+p[j]); //return maximum profit\n",
    "        return profit[C]; \n",
    "    }"
   ]
  },
  {
   "attachments": {},
   "cell_type": "markdown",
   "metadata": {},
   "source": [
    "## Q4. Code your algorithm in a programming language."
   ]
  },
  {
   "cell_type": "code",
   "execution_count": 21,
   "metadata": {},
   "outputs": [],
   "source": [
    "def knapsack(weights, profits, capacity, numItems):\n",
    "    maxProfits = [0 for k in range(capacity+1)]\n",
    "    # Loop through the capacity\n",
    "    for i in range(1, capacity+1):\n",
    "        # Loop through all the items\n",
    "        for j in range(numItems):\n",
    "            # Check whether current item can fit into knapsack\n",
    "            if (weights[j] <= i):   # where i is current capacity\n",
    "                maxProfits[i] = max(maxProfits[i], (maxProfits[i - weights[j]] + profits[j]))\n",
    "\n",
    "    return maxProfits[capacity]\n"
   ]
  },
  {
   "attachments": {},
   "cell_type": "markdown",
   "metadata": {},
   "source": [
    "## Q4(a) Show the running result of P(C = 14) with weights and profits given in the table below."
   ]
  },
  {
   "attachments": {},
   "cell_type": "markdown",
   "metadata": {},
   "source": [
    "|  | Item 0 | Item 1 | Item 2 |\n",
    "|----------|----------|----------|----------|\n",
    "| Weights Wi | 4 | 6 | 8 |\n",
    "| Profit Pi | 7 | 6 | 9 |"
   ]
  },
  {
   "cell_type": "code",
   "execution_count": 22,
   "metadata": {},
   "outputs": [
    {
     "name": "stdout",
     "output_type": "stream",
     "text": [
      "Maximum Profits of (4a): 21\n"
     ]
    }
   ],
   "source": [
    "# Show the results of P(Capacity = 14)\n",
    "capacity = 14\n",
    "weightsArray = [4, 6, 8]\n",
    "profitArray = [7, 6, 9]\n",
    "\n",
    "weightsArray2 = [5, 6, 8]\n",
    "profitArray2 = [7, 6, 9]\n",
    "\n",
    "## 4a. Results of P(14) with array1\n",
    "numItems1 = len(weightsArray)\n",
    "numItems2 = len(weightsArray2)\n",
    "maxProfits1 = knapsack(weights = weightsArray, profits = profitArray, capacity = capacity, numItems = numItems1)\n",
    "print(\"Maximum Profits of (4a): {}\".format(maxProfits1))\n"
   ]
  },
  {
   "attachments": {},
   "cell_type": "markdown",
   "metadata": {},
   "source": [
    "## Q4(b) Show the running result of P(C = 14) with weights and profits given in the table below."
   ]
  },
  {
   "attachments": {},
   "cell_type": "markdown",
   "metadata": {},
   "source": [
    "|  | Item 0 | Item 1 | Item 2 |\n",
    "|----------|----------|----------|----------|\n",
    "| Weights Wi | 5 | 6 | 8 |\n",
    "| Profit Pi | 7 | 6 | 9 |"
   ]
  },
  {
   "cell_type": "code",
   "execution_count": 24,
   "metadata": {},
   "outputs": [
    {
     "name": "stdout",
     "output_type": "stream",
     "text": [
      "Maximum Profits of (4b): 16\n"
     ]
    }
   ],
   "source": [
    "# 4b. Results of P(14) with array2\n",
    "maxProfits2 = knapsack(weights = weightsArray2, profits = profitArray2, capacity = capacity, numItems = numItems2)\n",
    "print(\"Maximum Profits of (4b): {}\".format(maxProfits2))"
   ]
  }
 ],
 "metadata": {
  "kernelspec": {
   "display_name": "Python 3",
   "language": "python",
   "name": "python3"
  },
  "language_info": {
   "codemirror_mode": {
    "name": "ipython",
    "version": 3
   },
   "file_extension": ".py",
   "mimetype": "text/x-python",
   "name": "python",
   "nbconvert_exporter": "python",
   "pygments_lexer": "ipython3",
   "version": "3.11.2"
  },
  "orig_nbformat": 4
 },
 "nbformat": 4,
 "nbformat_minor": 2
}
