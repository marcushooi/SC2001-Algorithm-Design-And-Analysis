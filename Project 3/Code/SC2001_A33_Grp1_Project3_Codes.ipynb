{
 "cells": [
  {
   "cell_type": "markdown",
   "metadata": {},
   "source": [
    "# SC2001 Project 3 (Lab Group A33, Group 1)\n",
    "## Dynamic Programming (0/1 Knapsack Problem)\n"
   ]
  },
  {
   "attachments": {},
   "cell_type": "markdown",
   "metadata": {},
   "source": [
    "> We have a knapsack of capacity weight C (a positive integer) and n types of objects.\n",
    "Each object of the ith type has weight wi and profit pi (all wi and all pi are positive\n",
    "integers, i = 0, 1, …, n-1). There are unlimited supplies of each type of objects. Find\n",
    "the largest total profit of any set of the objects that fits in the knapsack.\n",
    "Let P(C) be the maximum profit that can be made by packing objects into the knapsack\n",
    "of capacity C.\n"
   ]
  },
  {
   "attachments": {},
   "cell_type": "markdown",
   "metadata": {},
   "source": [
    "> #### (Q1) Give a recursive definition of the function P(C)."
   ]
  },
  {
   "attachments": {},
   "cell_type": "markdown",
   "metadata": {},
   "source": [
    "Note. the answer cannot be the same as the lecture slide one from what I heard. need to use some summation function to show P(C)?"
   ]
  },
  {
   "attachments": {},
   "cell_type": "markdown",
   "metadata": {},
   "source": [
    "> #### (Q4) Code your algorithm in a programming language"
   ]
  },
  {
   "cell_type": "code",
   "execution_count": 3,
   "metadata": {},
   "outputs": [
    {
     "name": "stdout",
     "output_type": "stream",
     "text": [
      "Price at each capacity C is given by:\n",
      "[0, 0, 0, 0, 7, 7, 7, 7, 14, 14, 14, 14, 21, 21, 21]\n",
      "Maximum profit: 21\n"
     ]
    }
   ],
   "source": [
    "# C is capacity\n",
    "# n is number of items\n",
    "# price is the array storing the price for each item\n",
    "# weight is the array storing the weight of each item\n",
    "\n",
    "def knapSack(C,n,price,weight):\n",
    "    # Initialising the results as 1D Array\n",
    "    P = [0 for i in range(C+1)]\n",
    "\n",
    "    # Iterate through the columns (For each capacity from the bottom up i.e. from 0 to C)\n",
    "    for i in range(C+1):\n",
    "        # Iterate through the rows (For each item from the bottom up i.e. from 1st item to all n items)\n",
    "        for j in range(n):\n",
    "            # We only consider the scenario where the weight of the item is smaller than or equal to the available capacity\n",
    "            if weight[j] <= i:\n",
    "                # Then, we have 2 choices. Either we choose the item, or we don't choose the item\n",
    "                \n",
    "                # Case 1: Choose the item, thus capacity decrease by weight[j], profit increases by price[j]\n",
    "                # Case 2: Don't choose the item, capacity doesn't decrease, profit doesn't increase as well.\n",
    "                P[i] = max(P[i], P[i - weight[j]] + price[j])\n",
    "\n",
    "    print(\"Price at each capacity C is given by:\")\n",
    "    print(P)\n",
    "    return P[C]\n"
   ]
  },
  {
   "attachments": {},
   "cell_type": "markdown",
   "metadata": {},
   "source": [
    "> #### (Q4a) Show the running result of P(14) with weights and profits given in (2)."
   ]
  },
  {
   "cell_type": "code",
   "execution_count": 4,
   "metadata": {},
   "outputs": [
    {
     "name": "stdout",
     "output_type": "stream",
     "text": [
      "Price at each capacity C is given by:\n",
      "[0, 0, 0, 0, 7, 7, 7, 7, 14, 14, 14, 14, 21, 21, 21]\n",
      "Maximum profit: 21\n"
     ]
    }
   ],
   "source": [
    "C = int(input(\"Enter capacity of knapsack: \"))\n",
    "n = int(input(\"Enter number of items: \"))\n",
    "\n",
    "# Split method splits the user input into a list of characters \n",
    "# Map function converts all of that character inputs into integer\n",
    "# List function ensures that the iterable outputted by map function becomes list\n",
    "\n",
    "weight = list(map(int,input(\"Enter weight of items (e.g. 1 3 5): \").split()))\n",
    "price = list(map(int, input(\"Enter price of items (e.g. 1 3 5): \").split()))\n",
    "\n",
    "print(\"Maximum profit:\", knapSack(C,n,price,weight))\n"
   ]
  },
  {
   "attachments": {},
   "cell_type": "markdown",
   "metadata": {},
   "source": [
    "> #### (Q4b) Show the running result of P(14) with weights and profits given below."
   ]
  },
  {
   "cell_type": "code",
   "execution_count": 5,
   "metadata": {},
   "outputs": [
    {
     "name": "stdout",
     "output_type": "stream",
     "text": [
      "Price at each capacity C is given by:\n",
      "[0, 0, 0, 0, 0, 7, 7, 7, 9, 9, 14, 14, 14, 16, 16]\n",
      "Maximum profit: 16\n"
     ]
    }
   ],
   "source": [
    "C = int(input(\"Enter capacity of knapsack: \"))\n",
    "n = int(input(\"Enter number of items: \"))\n",
    "\n",
    "# Split method splits the user input into a list of characters \n",
    "# Map function converts all of that character inputs into integer\n",
    "# List function ensures that the iterable outputted by map function becomes list\n",
    "\n",
    "weight = list(map(int,input(\"Enter weight of items (e.g. 1 3 5): \").split()))\n",
    "price = list(map(int, input(\"Enter price of items (e.g. 1 3 5): \").split()))\n",
    "\n",
    "print(\"Maximum profit:\", knapSack(C,n,price,weight))"
   ]
  }
 ],
 "metadata": {
  "kernelspec": {
   "display_name": ".venv",
   "language": "python",
   "name": "python3"
  },
  "language_info": {
   "codemirror_mode": {
    "name": "ipython",
    "version": 3
   },
   "file_extension": ".py",
   "mimetype": "text/x-python",
   "name": "python",
   "nbconvert_exporter": "python",
   "pygments_lexer": "ipython3",
   "version": "3.11.2"
  },
  "orig_nbformat": 4
 },
 "nbformat": 4,
 "nbformat_minor": 2
}
