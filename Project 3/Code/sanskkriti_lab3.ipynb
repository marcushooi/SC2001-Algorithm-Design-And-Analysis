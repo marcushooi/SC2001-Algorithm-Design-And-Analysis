{
 "cells": [
  {
   "cell_type": "markdown",
   "id": "dbf96428",
   "metadata": {},
   "source": [
    "### Q1. Give a recursive definition of the function P(C)."
   ]
  },
  {
   "cell_type": "markdown",
   "id": "8dee6819",
   "metadata": {},
   "source": [
    "    P(C) = max( P(C-w[0]) + p[0], P(C-w[1]) + p[1], ... , P(C-w[n-1]) + p[n-1])"
   ]
  },
  {
   "cell_type": "markdown",
   "id": "71c91660",
   "metadata": {},
   "source": [
    "### Q2. Draw the subproblem graph for P(14) where n is 3 with the weights and profits given below."
   ]
  },
  {
   "cell_type": "markdown",
   "id": "9cfba9f7",
   "metadata": {},
   "source": [
    "### Q3. Give a dynamic programming algorithm to compute the maximum profit, given a knapsack of capacity C, n types of objects with weights wi and profits pi using the bottom up approach."
   ]
  },
  {
   "cell_type": "code",
   "execution_count": 34,
   "id": "61b556c1",
   "metadata": {},
   "outputs": [],
   "source": [
    "import pandas as pd\n",
    "weight = [4, 6, 8]\n",
    "profit = [7, 6, 9]"
   ]
  },
  {
   "cell_type": "code",
   "execution_count": 35,
   "id": "3af9fab3",
   "metadata": {},
   "outputs": [],
   "source": [
    "def knapsack_dp(C, weight, profit, n):\n",
    "    # Initialise the DP table\n",
    "    # Values are all initialised to 0 but in actuality, only row 0 and col 0 will be 0\n",
    "    V = [[0 for i in range(C + 1)] for i in range(n + 1)]\n",
    "    \n",
    "    # Construct the table in a bottom up manner\n",
    "    for i in range(1, n + 1): # Iterate through the ROWS (Dictates the capacity limit we set)\n",
    "        for w in range(1, C + 1): # Iterate through the COLS (Dictates the number of objects we can consider)\n",
    "            if weight[i-1] <= w: # If the weight of object is less than the capacity limit\n",
    "                # Max value of the two possible options\n",
    "                # 1: We DO NOT include the i'th object -> V[i-1][w]\n",
    "                # 2: Even if we include that instance, still can include its multiple instance\n",
    "                V[i][w] = max(V[i-1][w], V[i][w-weight[i-1]] + profit[i-1])\n",
    "            else:\n",
    "                V[i][w] = V[i-1][w]\n",
    "    return V[n][C], V \n",
    "\n",
    "# TIME COMPLEXITY: O(numOfObjects * weights)\n",
    "# SPACE COMPLEXITY: O(numOfObjects * weights) -> essential"
   ]
  },
  {
   "cell_type": "markdown",
   "id": "70de3cc2",
   "metadata": {},
   "source": [
    "### Q4. Code your algorithm in a programming language\n",
    "    a. show the running result of P(14) with weights and profits given in (2). \n",
    "    b. Show the running result of P(14) with weights and profits given below."
   ]
  },
  {
   "cell_type": "code",
   "execution_count": 36,
   "id": "d731e47b",
   "metadata": {},
   "outputs": [
    {
     "name": "stdout",
     "output_type": "stream",
     "text": [
      "######### Therefore the max profit is 21 #########\n"
     ]
    }
   ],
   "source": [
    "ans,array = knapsack_dp(14, weight, profit, 3)\n",
    "print(\"######### Therefore the max profit is\", ans, \"#########\")\n"
   ]
  },
  {
   "cell_type": "code",
   "execution_count": 37,
   "id": "0c0a5bd2",
   "metadata": {},
   "outputs": [
    {
     "data": {
      "text/html": [
       "<div>\n",
       "<style scoped>\n",
       "    .dataframe tbody tr th:only-of-type {\n",
       "        vertical-align: middle;\n",
       "    }\n",
       "\n",
       "    .dataframe tbody tr th {\n",
       "        vertical-align: top;\n",
       "    }\n",
       "\n",
       "    .dataframe thead th {\n",
       "        text-align: right;\n",
       "    }\n",
       "</style>\n",
       "<table border=\"1\" class=\"dataframe\">\n",
       "  <thead>\n",
       "    <tr style=\"text-align: right;\">\n",
       "      <th></th>\n",
       "      <th>0</th>\n",
       "      <th>1</th>\n",
       "      <th>2</th>\n",
       "      <th>3</th>\n",
       "      <th>4</th>\n",
       "      <th>5</th>\n",
       "      <th>6</th>\n",
       "      <th>7</th>\n",
       "      <th>8</th>\n",
       "      <th>9</th>\n",
       "      <th>10</th>\n",
       "      <th>11</th>\n",
       "      <th>12</th>\n",
       "      <th>13</th>\n",
       "      <th>14</th>\n",
       "    </tr>\n",
       "  </thead>\n",
       "  <tbody>\n",
       "    <tr>\n",
       "      <th>0</th>\n",
       "      <td>0</td>\n",
       "      <td>0</td>\n",
       "      <td>0</td>\n",
       "      <td>0</td>\n",
       "      <td>0</td>\n",
       "      <td>0</td>\n",
       "      <td>0</td>\n",
       "      <td>0</td>\n",
       "      <td>0</td>\n",
       "      <td>0</td>\n",
       "      <td>0</td>\n",
       "      <td>0</td>\n",
       "      <td>0</td>\n",
       "      <td>0</td>\n",
       "      <td>0</td>\n",
       "    </tr>\n",
       "    <tr>\n",
       "      <th>1</th>\n",
       "      <td>0</td>\n",
       "      <td>0</td>\n",
       "      <td>0</td>\n",
       "      <td>0</td>\n",
       "      <td>7</td>\n",
       "      <td>7</td>\n",
       "      <td>7</td>\n",
       "      <td>7</td>\n",
       "      <td>14</td>\n",
       "      <td>14</td>\n",
       "      <td>14</td>\n",
       "      <td>14</td>\n",
       "      <td>21</td>\n",
       "      <td>21</td>\n",
       "      <td>21</td>\n",
       "    </tr>\n",
       "    <tr>\n",
       "      <th>2</th>\n",
       "      <td>0</td>\n",
       "      <td>0</td>\n",
       "      <td>0</td>\n",
       "      <td>0</td>\n",
       "      <td>7</td>\n",
       "      <td>7</td>\n",
       "      <td>7</td>\n",
       "      <td>7</td>\n",
       "      <td>14</td>\n",
       "      <td>14</td>\n",
       "      <td>14</td>\n",
       "      <td>14</td>\n",
       "      <td>21</td>\n",
       "      <td>21</td>\n",
       "      <td>21</td>\n",
       "    </tr>\n",
       "    <tr>\n",
       "      <th>3</th>\n",
       "      <td>0</td>\n",
       "      <td>0</td>\n",
       "      <td>0</td>\n",
       "      <td>0</td>\n",
       "      <td>7</td>\n",
       "      <td>7</td>\n",
       "      <td>7</td>\n",
       "      <td>7</td>\n",
       "      <td>14</td>\n",
       "      <td>14</td>\n",
       "      <td>14</td>\n",
       "      <td>14</td>\n",
       "      <td>21</td>\n",
       "      <td>21</td>\n",
       "      <td>21</td>\n",
       "    </tr>\n",
       "  </tbody>\n",
       "</table>\n",
       "</div>"
      ],
      "text/plain": [
       "   0   1   2   3   4   5   6   7   8   9   10  11  12  13  14\n",
       "0   0   0   0   0   0   0   0   0   0   0   0   0   0   0   0\n",
       "1   0   0   0   0   7   7   7   7  14  14  14  14  21  21  21\n",
       "2   0   0   0   0   7   7   7   7  14  14  14  14  21  21  21\n",
       "3   0   0   0   0   7   7   7   7  14  14  14  14  21  21  21"
      ]
     },
     "execution_count": 37,
     "metadata": {},
     "output_type": "execute_result"
    }
   ],
   "source": [
    "pd.DataFrame(array)"
   ]
  },
  {
   "cell_type": "code",
   "execution_count": 38,
   "id": "e71ccf38",
   "metadata": {},
   "outputs": [],
   "source": [
    "weight = [5, 6, 8]\n",
    "profit = [7, 6, 9]"
   ]
  },
  {
   "cell_type": "code",
   "execution_count": 39,
   "id": "384b8ef8",
   "metadata": {},
   "outputs": [
    {
     "name": "stdout",
     "output_type": "stream",
     "text": [
      "######### Therefore the max profit is 16 #########\n"
     ]
    }
   ],
   "source": [
    "ans,array = knapsack_dp(14, weight, profit, 3)\n",
    "print(\"######### Therefore the max profit is\", ans, \"#########\")"
   ]
  },
  {
   "cell_type": "code",
   "execution_count": 40,
   "id": "53728ae1",
   "metadata": {},
   "outputs": [
    {
     "data": {
      "text/html": [
       "<div>\n",
       "<style scoped>\n",
       "    .dataframe tbody tr th:only-of-type {\n",
       "        vertical-align: middle;\n",
       "    }\n",
       "\n",
       "    .dataframe tbody tr th {\n",
       "        vertical-align: top;\n",
       "    }\n",
       "\n",
       "    .dataframe thead th {\n",
       "        text-align: right;\n",
       "    }\n",
       "</style>\n",
       "<table border=\"1\" class=\"dataframe\">\n",
       "  <thead>\n",
       "    <tr style=\"text-align: right;\">\n",
       "      <th></th>\n",
       "      <th>0</th>\n",
       "      <th>1</th>\n",
       "      <th>2</th>\n",
       "      <th>3</th>\n",
       "      <th>4</th>\n",
       "      <th>5</th>\n",
       "      <th>6</th>\n",
       "      <th>7</th>\n",
       "      <th>8</th>\n",
       "      <th>9</th>\n",
       "      <th>10</th>\n",
       "      <th>11</th>\n",
       "      <th>12</th>\n",
       "      <th>13</th>\n",
       "      <th>14</th>\n",
       "    </tr>\n",
       "  </thead>\n",
       "  <tbody>\n",
       "    <tr>\n",
       "      <th>0</th>\n",
       "      <td>0</td>\n",
       "      <td>0</td>\n",
       "      <td>0</td>\n",
       "      <td>0</td>\n",
       "      <td>0</td>\n",
       "      <td>0</td>\n",
       "      <td>0</td>\n",
       "      <td>0</td>\n",
       "      <td>0</td>\n",
       "      <td>0</td>\n",
       "      <td>0</td>\n",
       "      <td>0</td>\n",
       "      <td>0</td>\n",
       "      <td>0</td>\n",
       "      <td>0</td>\n",
       "    </tr>\n",
       "    <tr>\n",
       "      <th>1</th>\n",
       "      <td>0</td>\n",
       "      <td>0</td>\n",
       "      <td>0</td>\n",
       "      <td>0</td>\n",
       "      <td>0</td>\n",
       "      <td>7</td>\n",
       "      <td>7</td>\n",
       "      <td>7</td>\n",
       "      <td>7</td>\n",
       "      <td>7</td>\n",
       "      <td>14</td>\n",
       "      <td>14</td>\n",
       "      <td>14</td>\n",
       "      <td>14</td>\n",
       "      <td>14</td>\n",
       "    </tr>\n",
       "    <tr>\n",
       "      <th>2</th>\n",
       "      <td>0</td>\n",
       "      <td>0</td>\n",
       "      <td>0</td>\n",
       "      <td>0</td>\n",
       "      <td>0</td>\n",
       "      <td>7</td>\n",
       "      <td>7</td>\n",
       "      <td>7</td>\n",
       "      <td>7</td>\n",
       "      <td>7</td>\n",
       "      <td>14</td>\n",
       "      <td>14</td>\n",
       "      <td>14</td>\n",
       "      <td>14</td>\n",
       "      <td>14</td>\n",
       "    </tr>\n",
       "    <tr>\n",
       "      <th>3</th>\n",
       "      <td>0</td>\n",
       "      <td>0</td>\n",
       "      <td>0</td>\n",
       "      <td>0</td>\n",
       "      <td>0</td>\n",
       "      <td>7</td>\n",
       "      <td>7</td>\n",
       "      <td>7</td>\n",
       "      <td>9</td>\n",
       "      <td>9</td>\n",
       "      <td>14</td>\n",
       "      <td>14</td>\n",
       "      <td>14</td>\n",
       "      <td>16</td>\n",
       "      <td>16</td>\n",
       "    </tr>\n",
       "  </tbody>\n",
       "</table>\n",
       "</div>"
      ],
      "text/plain": [
       "   0   1   2   3   4   5   6   7   8   9   10  11  12  13  14\n",
       "0   0   0   0   0   0   0   0   0   0   0   0   0   0   0   0\n",
       "1   0   0   0   0   0   7   7   7   7   7  14  14  14  14  14\n",
       "2   0   0   0   0   0   7   7   7   7   7  14  14  14  14  14\n",
       "3   0   0   0   0   0   7   7   7   9   9  14  14  14  16  16"
      ]
     },
     "execution_count": 40,
     "metadata": {},
     "output_type": "execute_result"
    }
   ],
   "source": [
    "pd.DataFrame(array)"
   ]
  },
  {
   "cell_type": "code",
   "execution_count": null,
   "id": "dc827487",
   "metadata": {},
   "outputs": [],
   "source": []
  }
 ],
 "metadata": {
  "kernelspec": {
   "display_name": "Python 3 (ipykernel)",
   "language": "python",
   "name": "python3"
  },
  "language_info": {
   "codemirror_mode": {
    "name": "ipython",
    "version": 3
   },
   "file_extension": ".py",
   "mimetype": "text/x-python",
   "name": "python",
   "nbconvert_exporter": "python",
   "pygments_lexer": "ipython3",
   "version": "3.8.8"
  }
 },
 "nbformat": 4,
 "nbformat_minor": 5
}
