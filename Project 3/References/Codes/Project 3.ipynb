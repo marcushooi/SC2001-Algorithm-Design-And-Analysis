{
 "cells": [
  {
   "cell_type": "markdown",
   "id": "considerable-threat",
   "metadata": {},
   "source": [
    "## (1) The recursive function is:\n",
    "\n",
    "P(C) = Max(p0+P(C-w0), p1+P(C-w1), ... , p(n-1)+P(C-w(n-1)))"
   ]
  },
  {
   "cell_type": "code",
   "execution_count": 8,
   "id": "enabling-conducting",
   "metadata": {},
   "outputs": [
    {
     "name": "stdout",
     "output_type": "stream",
     "text": [
      "400\n"
     ]
    }
   ],
   "source": [
    "# (3)\n",
    "def knapSack(W, wt, val): \n",
    "    n=len(val)\n",
    "    table = [0 for x in range(W + 1)] \n",
    " \n",
    "    for i in range(W+1):\n",
    "        max = 0\n",
    "        for j in range(len(val)):\n",
    "            if wt[j] <= i:\n",
    "                if table[i-wt[j]]+val[j]>max:\n",
    "                    max = table[i-wt[j]]+val[j]\n",
    "            table[i]=max\n",
    "    return table[W] \n",
    " \n",
    "val = [50,100,150,200]\n",
    "wt = [8,16,32,40]\n",
    "W = 64\n",
    " \n",
    "print(knapSack(W, wt, val))"
   ]
  },
  {
   "cell_type": "code",
   "execution_count": 10,
   "id": "hindu-input",
   "metadata": {},
   "outputs": [
    {
     "name": "stdout",
     "output_type": "stream",
     "text": [
      "21\n",
      "16\n"
     ]
    }
   ],
   "source": [
    "# (4)\n",
    "wt1=[4,6,8]\n",
    "val1=[7,6,9]\n",
    "print(knapSack(14, wt1, val1))\n",
    "wt2=[5,6,8]\n",
    "val2=[7,6,9]\n",
    "print(knapSack(14, wt2, val2))"
   ]
  },
  {
   "cell_type": "code",
   "execution_count": null,
   "id": "administrative-shuttle",
   "metadata": {},
   "outputs": [],
   "source": []
  }
 ],
 "metadata": {
  "kernelspec": {
   "display_name": "Python 3",
   "language": "python",
   "name": "python3"
  },
  "language_info": {
   "codemirror_mode": {
    "name": "ipython",
    "version": 3
   },
   "file_extension": ".py",
   "mimetype": "text/x-python",
   "name": "python",
   "nbconvert_exporter": "python",
   "pygments_lexer": "ipython3",
   "version": "3.8.5"
  }
 },
 "nbformat": 4,
 "nbformat_minor": 5
}
