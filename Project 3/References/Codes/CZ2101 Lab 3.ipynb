{
 "cells": [
  {
   "cell_type": "markdown",
   "id": "7cb4b72b",
   "metadata": {},
   "source": [
    "## Unbounded Knapsack Algorithm"
   ]
  },
  {
   "cell_type": "code",
   "execution_count": 1,
   "id": "346c9b25",
   "metadata": {},
   "outputs": [],
   "source": [
    "def knapsack(C, n, p, w):\n",
    "    P = [0 for i in range (C + 1)]\n",
    "    \n",
    "    for i in range(C + 1):\n",
    "        for j in range(n):\n",
    "            if (w[j] <= i):\n",
    "                P[i] = max(P[i], P[i - w[j]] + p[j])\n",
    "    \n",
    "    return P[C]"
   ]
  },
  {
   "cell_type": "markdown",
   "id": "77ac1890",
   "metadata": {},
   "source": [
    "### Testing with Inputs"
   ]
  },
  {
   "cell_type": "code",
   "execution_count": 2,
   "id": "37c7f476",
   "metadata": {},
   "outputs": [
    {
     "name": "stdout",
     "output_type": "stream",
     "text": [
      "21\n"
     ]
    }
   ],
   "source": [
    "C = 14\n",
    "p = [7, 6, 9]\n",
    "w = [4, 6, 8]\n",
    "n = len(p)\n",
    "\n",
    "print(knapsack(C, n, p, w))"
   ]
  },
  {
   "cell_type": "code",
   "execution_count": 3,
   "id": "ad47379b",
   "metadata": {},
   "outputs": [
    {
     "name": "stdout",
     "output_type": "stream",
     "text": [
      "16\n"
     ]
    }
   ],
   "source": [
    "C = 14\n",
    "p = [7, 6, 9]\n",
    "w = [5, 6, 8]\n",
    "n = len(p)\n",
    "\n",
    "print(knapsack(C, n, p, w))"
   ]
  }
 ],
 "metadata": {
  "kernelspec": {
   "display_name": "Python 3 (ipykernel)",
   "language": "python",
   "name": "python3"
  },
  "language_info": {
   "codemirror_mode": {
    "name": "ipython",
    "version": 3
   },
   "file_extension": ".py",
   "mimetype": "text/x-python",
   "name": "python",
   "nbconvert_exporter": "python",
   "pygments_lexer": "ipython3",
   "version": "3.9.7"
  }
 },
 "nbformat": 4,
 "nbformat_minor": 5
}
