{
 "cells": [
  {
   "cell_type": "code",
   "execution_count": 1,
   "id": "90526acf",
   "metadata": {},
   "outputs": [],
   "source": [
    "import math\n",
    "import random\n",
    "import numpy as np\n",
    "import matplotlib.pyplot as plt"
   ]
  },
  {
   "cell_type": "markdown",
   "id": "31b7cbed",
   "metadata": {},
   "source": [
    "# TEST GROUND"
   ]
  },
  {
   "cell_type": "code",
   "execution_count": 2,
   "id": "f43ec41b",
   "metadata": {},
   "outputs": [],
   "source": [
    "def generateGraph(v):\n",
    "    \n",
    "    matrix = np.zeros((v,v)).astype(int)\n",
    "    \n",
    "    for i in range(v):\n",
    "        j = i + 1\n",
    "        for j in range(v):\n",
    "            edge_exist = random.randint(0,1)\n",
    "            if edge_exist and i != j:\n",
    "                dist = random.randint(1,10)\n",
    "                matrix[i,j] = dist\n",
    "                matrix[j,i] = dist\n",
    "    \n",
    "    print(\"matrix:\")\n",
    "    print(matrix)\n",
    "    print(\" \")\n",
    "    \n",
    "    return matrix"
   ]
  },
  {
   "cell_type": "code",
   "execution_count": 3,
   "id": "ded50bdb",
   "metadata": {},
   "outputs": [
    {
     "name": "stdout",
     "output_type": "stream",
     "text": [
      "matrix:\n",
      "[[ 0  9  8  0  7]\n",
      " [ 9  0 10 10  4]\n",
      " [ 8 10  0  1  4]\n",
      " [ 0 10  1  0  9]\n",
      " [ 7  4  4  9  0]]\n",
      " \n"
     ]
    }
   ],
   "source": [
    "# TEST\n",
    "graph = generateGraph(5);"
   ]
  },
  {
   "cell_type": "code",
   "execution_count": 4,
   "id": "481557cc",
   "metadata": {},
   "outputs": [],
   "source": [
    "def dijkstra(matrix, source):\n",
    "    \n",
    "    v = len(matrix)\n",
    "    dist_from_source = np.ones(v) * np.inf\n",
    "    pi = np.zeros(v).astype(int)\n",
    "    S = np.zeros(v).astype(int)\n",
    "    \n",
    "    dist_from_source[source - 1] = 0\n",
    "    \n",
    "    print(\"Number of Vertices:\", v)\n",
    "    print(\"dist_from_source:\", dist_from_source)\n",
    "    print(\"Predecessor:\", pi)\n",
    "    print(\"Visited:\", S)\n",
    "    \n",
    "    Q = np.arange(1, v+1) \n",
    "    Q = priorityQueue(Q, dist_from_source)\n",
    "\n",
    "    print(\" \")\n",
    "    \n",
    "    comparisons = 0\n",
    "    \n",
    "    while(len(Q) != 0):\n",
    "        \n",
    "        print(\"New round, length of Q:\", len(Q))\n",
    "        u, Q = extractCheapest(Q)\n",
    "        print(\"Cheapest:\", u)\n",
    "        S[u - 1] = 1\n",
    "        print(\"Visited:\", S)\n",
    "        print(\"Extracted u:\", u)\n",
    "        print(\"Remaining Q:\", Q)\n",
    "        \n",
    "        adjacents = adjacent(matrix, u)\n",
    "        for v in adjacents:\n",
    "            comparisons += 1\n",
    "            print(\"Current adjacent:\", v)\n",
    "            print(\"Known distance from source:\", dist_from_source[v - 1])\n",
    "            print(\"New distance from source:\", dist_from_source[u - 1] + matrix[v - 1][u - 1])\n",
    "            if S[v - 1] != 1 and (dist_from_source[v - 1] > dist_from_source[u - 1] + matrix[v - 1][u - 1]).any():\n",
    "                dist_from_source[v - 1] = dist_from_source[u - 1] + matrix[v - 1][u - 1]\n",
    "                pi[v - 1] = u\n",
    "                print(\"pi:\", pi)\n",
    "                print(\"dist_from_source:\", dist_from_source)\n",
    "                Q = priorityQueue(Q, dist_from_source)\n",
    "        \n",
    "        print(\"pi:\", pi)\n",
    "        print(\" \")\n",
    "        \n",
    "    return pi, comparisons"
   ]
  },
  {
   "cell_type": "code",
   "execution_count": 5,
   "id": "e4313b33",
   "metadata": {},
   "outputs": [],
   "source": [
    "def printSolution(pi):\n",
    "    \n",
    "    vertex = 1\n",
    "    for each in pi:\n",
    "        print(vertex, \":\", each)\n",
    "        vertex += 1\n",
    "        "
   ]
  },
  {
   "cell_type": "code",
   "execution_count": 6,
   "id": "6c9029ef",
   "metadata": {},
   "outputs": [],
   "source": [
    "def priorityQueue(queue, dist_from_source):\n",
    "    \n",
    "    v = len(dist_from_source)\n",
    "    \n",
    "    i = 0\n",
    "    res_dist = []\n",
    "    for each in queue:\n",
    "        res_dist.append(dist_from_source[each - 1])\n",
    "        i += 1\n",
    "    \n",
    "    i = 0\n",
    "    for i in range(len(queue)):\n",
    "        dist = res_dist[i]\n",
    "        vertice = queue[i]\n",
    "        j = i - 1;\n",
    " \n",
    "        while j >= 0 and (res_dist[j] > dist).all():\n",
    "            res_dist[j + 1] = res_dist[j]\n",
    "            queue[j + 1] = queue[j]\n",
    "            j -= 1\n",
    "\n",
    "        res_dist[j + 1] = dist\n",
    "        queue[j + 1] = vertice\n",
    "        \n",
    "    print(\"Queue:\", queue)\n",
    "        \n",
    "    return queue"
   ]
  },
  {
   "cell_type": "code",
   "execution_count": 7,
   "id": "c800d6ed",
   "metadata": {},
   "outputs": [
    {
     "name": "stdout",
     "output_type": "stream",
     "text": [
      "[inf inf inf inf  0.]\n",
      "Queue: [5, 1, 2, 3, 4]\n",
      "[5, 1, 2, 3, 4]\n",
      "<class 'list'>\n"
     ]
    }
   ],
   "source": [
    "# TEST\n",
    "v = 5\n",
    "dist_from_source = np.ones(v) * np.inf\n",
    "dist_from_source[4] = 0\n",
    "print(dist_from_source)\n",
    "queue = [1,2,3,4,5]\n",
    "queue = priorityQueue(queue, dist_from_source)\n",
    "print(queue)\n",
    "print(type(queue))"
   ]
  },
  {
   "cell_type": "code",
   "execution_count": 8,
   "id": "ef72b783",
   "metadata": {},
   "outputs": [],
   "source": [
    "def adjacent(matrix, vertice):\n",
    "    \n",
    "    adjacents = []\n",
    "    \n",
    "    for i in range(len(matrix)):\n",
    "        if matrix[vertice - 1][i] != 0 and i != vertice - 1:\n",
    "            adjacents.append(i+1)\n",
    "            \n",
    "    print(\"adjacents:\", adjacents)\n",
    "            \n",
    "    return adjacents"
   ]
  },
  {
   "cell_type": "code",
   "execution_count": 9,
   "id": "3dc0ff2a",
   "metadata": {},
   "outputs": [
    {
     "name": "stdout",
     "output_type": "stream",
     "text": [
      "adjacents: [2, 3, 5]\n"
     ]
    },
    {
     "data": {
      "text/plain": [
       "[2, 3, 5]"
      ]
     },
     "execution_count": 9,
     "metadata": {},
     "output_type": "execute_result"
    }
   ],
   "source": [
    "# TEST\n",
    "adjacent(graph,1)"
   ]
  },
  {
   "cell_type": "code",
   "execution_count": 10,
   "id": "a54f7915",
   "metadata": {},
   "outputs": [],
   "source": [
    "def remove(queue, vertice):\n",
    "    \n",
    "    np.delete(queue,vertice)"
   ]
  },
  {
   "cell_type": "code",
   "execution_count": 11,
   "id": "b8e72ba7",
   "metadata": {},
   "outputs": [],
   "source": [
    "def extractCheapest(queue):\n",
    "    \n",
    "    element = queue[0]\n",
    "    queue = np.delete(queue, 0)\n",
    "    \n",
    "    return element, queue"
   ]
  },
  {
   "cell_type": "code",
   "execution_count": 12,
   "id": "3f00b466",
   "metadata": {},
   "outputs": [
    {
     "name": "stdout",
     "output_type": "stream",
     "text": [
      "(1, array([2, 3, 4, 5]))\n"
     ]
    }
   ],
   "source": [
    "# TEST\n",
    "queue = np.arange(1, v+1)\n",
    "print(extractCheapest(queue))"
   ]
  },
  {
   "cell_type": "code",
   "execution_count": 13,
   "id": "ea2f2b70",
   "metadata": {},
   "outputs": [
    {
     "name": "stdout",
     "output_type": "stream",
     "text": [
      "========== start ==========\n",
      "matrix:\n",
      "[[ 0  5  2  9  3]\n",
      " [ 5  0  4  4  0]\n",
      " [ 2  4  0  5 10]\n",
      " [ 9  4  5  0  9]\n",
      " [ 3  0 10  9  0]]\n",
      " \n",
      "Number of Vertices: 5\n",
      "dist_from_source: [ 0. inf inf inf inf]\n",
      "Predecessor: [0 0 0 0 0]\n",
      "Visited: [0 0 0 0 0]\n",
      "Queue: [1 2 3 4 5]\n",
      " \n",
      "New round, length of Q: 5\n",
      "Cheapest: 1\n",
      "Visited: [1 0 0 0 0]\n",
      "Extracted u: 1\n",
      "Remaining Q: [2 3 4 5]\n",
      "adjacents: [2, 3, 4, 5]\n",
      "Current adjacent: 2\n",
      "Known distance from source: inf\n",
      "New distance from source: 5.0\n",
      "pi: [0 1 0 0 0]\n",
      "dist_from_source: [ 0.  5. inf inf inf]\n",
      "Queue: [2 3 4 5]\n",
      "Current adjacent: 3\n",
      "Known distance from source: inf\n",
      "New distance from source: 2.0\n",
      "pi: [0 1 1 0 0]\n",
      "dist_from_source: [ 0.  5.  2. inf inf]\n",
      "Queue: [3 2 4 5]\n",
      "Current adjacent: 4\n",
      "Known distance from source: inf\n",
      "New distance from source: 9.0\n",
      "pi: [0 1 1 1 0]\n",
      "dist_from_source: [ 0.  5.  2.  9. inf]\n",
      "Queue: [3 2 4 5]\n",
      "Current adjacent: 5\n",
      "Known distance from source: inf\n",
      "New distance from source: 3.0\n",
      "pi: [0 1 1 1 1]\n",
      "dist_from_source: [0. 5. 2. 9. 3.]\n",
      "Queue: [3 5 2 4]\n",
      "pi: [0 1 1 1 1]\n",
      " \n",
      "New round, length of Q: 4\n",
      "Cheapest: 3\n",
      "Visited: [1 0 1 0 0]\n",
      "Extracted u: 3\n",
      "Remaining Q: [5 2 4]\n",
      "adjacents: [1, 2, 4, 5]\n",
      "Current adjacent: 1\n",
      "Known distance from source: 0.0\n",
      "New distance from source: 4.0\n",
      "Current adjacent: 2\n",
      "Known distance from source: 5.0\n",
      "New distance from source: 6.0\n",
      "Current adjacent: 4\n",
      "Known distance from source: 9.0\n",
      "New distance from source: 7.0\n",
      "pi: [0 1 1 3 1]\n",
      "dist_from_source: [0. 5. 2. 7. 3.]\n",
      "Queue: [5 2 4]\n",
      "Current adjacent: 5\n",
      "Known distance from source: 3.0\n",
      "New distance from source: 12.0\n",
      "pi: [0 1 1 3 1]\n",
      " \n",
      "New round, length of Q: 3\n",
      "Cheapest: 5\n",
      "Visited: [1 0 1 0 1]\n",
      "Extracted u: 5\n",
      "Remaining Q: [2 4]\n",
      "adjacents: [1, 3, 4]\n",
      "Current adjacent: 1\n",
      "Known distance from source: 0.0\n",
      "New distance from source: 6.0\n",
      "Current adjacent: 3\n",
      "Known distance from source: 2.0\n",
      "New distance from source: 13.0\n",
      "Current adjacent: 4\n",
      "Known distance from source: 7.0\n",
      "New distance from source: 12.0\n",
      "pi: [0 1 1 3 1]\n",
      " \n",
      "New round, length of Q: 2\n",
      "Cheapest: 2\n",
      "Visited: [1 1 1 0 1]\n",
      "Extracted u: 2\n",
      "Remaining Q: [4]\n",
      "adjacents: [1, 3, 4]\n",
      "Current adjacent: 1\n",
      "Known distance from source: 0.0\n",
      "New distance from source: 10.0\n",
      "Current adjacent: 3\n",
      "Known distance from source: 2.0\n",
      "New distance from source: 9.0\n",
      "Current adjacent: 4\n",
      "Known distance from source: 7.0\n",
      "New distance from source: 9.0\n",
      "pi: [0 1 1 3 1]\n",
      " \n",
      "New round, length of Q: 1\n",
      "Cheapest: 4\n",
      "Visited: [1 1 1 1 1]\n",
      "Extracted u: 4\n",
      "Remaining Q: []\n",
      "adjacents: [1, 2, 3, 5]\n",
      "Current adjacent: 1\n",
      "Known distance from source: 0.0\n",
      "New distance from source: 16.0\n",
      "Current adjacent: 2\n",
      "Known distance from source: 5.0\n",
      "New distance from source: 11.0\n",
      "Current adjacent: 3\n",
      "Known distance from source: 2.0\n",
      "New distance from source: 12.0\n",
      "Current adjacent: 5\n",
      "Known distance from source: 3.0\n",
      "New distance from source: 16.0\n",
      "pi: [0 1 1 3 1]\n",
      " \n",
      "comparisons 18\n",
      "1 : 0\n",
      "2 : 1\n",
      "3 : 1\n",
      "4 : 3\n",
      "5 : 1\n",
      "=========== end ===========\n"
     ]
    }
   ],
   "source": [
    "if __name__ == \"__main__\":\n",
    "    \n",
    "\n",
    "    print(\"========== start ==========\")\n",
    "    \n",
    "    size = 5\n",
    "    source = 1\n",
    "\n",
    "    graph = generateGraph(size)\n",
    "    \n",
    "    comparisons = 0\n",
    "    \n",
    "    x, comparisons = dijkstra(graph, source)\n",
    "    \n",
    "    print(\"comparisons\", comparisons)\n",
    "    printSolution(x)\n",
    "    \n",
    "    print(\"=========== end ===========\")"
   ]
  },
  {
   "cell_type": "markdown",
   "id": "1bff974a",
   "metadata": {},
   "source": [
    "# CLEANED UP"
   ]
  },
  {
   "cell_type": "code",
   "execution_count": 14,
   "id": "66b8e139",
   "metadata": {},
   "outputs": [],
   "source": [
    "def generateGraph(v):\n",
    "    \n",
    "    matrix = np.zeros((v,v)).astype(int)\n",
    "    \n",
    "    for i in range(v):\n",
    "        j = i + 1\n",
    "        for j in range(v):\n",
    "            edge_exist = random.randint(0,1)\n",
    "            if edge_exist and i != j:\n",
    "                dist = random.randint(1,10)\n",
    "                matrix[i,j] = dist\n",
    "                matrix[j,i] = dist\n",
    "                \n",
    "    return matrix"
   ]
  },
  {
   "cell_type": "code",
   "execution_count": 15,
   "id": "612f55a3",
   "metadata": {},
   "outputs": [],
   "source": [
    "def dijkstra(matrix, source):\n",
    "    \n",
    "    v = len(matrix)\n",
    "    dist_from_source = np.ones(v) * np.inf\n",
    "    pi = np.zeros(v).astype(int)\n",
    "    S = np.zeros(v).astype(int)\n",
    "    \n",
    "    dist_from_source[source - 1] = 0\n",
    "    \n",
    "    Q = np.arange(1, v+1) \n",
    "    Q = priorityQueue(Q, dist_from_source)\n",
    "\n",
    "    comparisons = 0\n",
    "    \n",
    "    while(len(Q) != 0):\n",
    "        \n",
    "        u, Q = extractCheapest(Q)\n",
    "        S[u - 1] = 1\n",
    "        \n",
    "        adjacents = adjacent(matrix, u)\n",
    "        for v in adjacents:\n",
    "            comparisons += 1\n",
    "            if S[v - 1] != 1 and (dist_from_source[v - 1] > dist_from_source[u - 1] + matrix[v - 1][u - 1]).any():\n",
    "                dist_from_source[v - 1] = dist_from_source[u - 1] + matrix[v - 1][u - 1]\n",
    "                pi[v - 1] = u\n",
    "                Q = priorityQueue(Q, dist_from_source)\n",
    "        \n",
    "    return pi, comparisons"
   ]
  },
  {
   "cell_type": "code",
   "execution_count": 16,
   "id": "cddc29f7",
   "metadata": {},
   "outputs": [],
   "source": [
    "def priorityQueue(queue, dist_from_source):\n",
    "    \n",
    "    v = len(dist_from_source)\n",
    "    \n",
    "    i = 0\n",
    "    res_dist = []\n",
    "    for each in queue:\n",
    "        res_dist.append(dist_from_source[each - 1])\n",
    "        i += 1\n",
    "    \n",
    "    i = 0\n",
    "    for i in range(len(queue)):\n",
    "        dist = res_dist[i]\n",
    "        vertice = queue[i]\n",
    "        j = i - 1;\n",
    " \n",
    "        while j >= 0 and (res_dist[j] > dist).all():\n",
    "            res_dist[j + 1] = res_dist[j]\n",
    "            queue[j + 1] = queue[j]\n",
    "            j -= 1\n",
    "\n",
    "        res_dist[j + 1] = dist\n",
    "        queue[j + 1] = vertice\n",
    "        \n",
    "    return queue"
   ]
  },
  {
   "cell_type": "code",
   "execution_count": 17,
   "id": "74ff9b9b",
   "metadata": {},
   "outputs": [],
   "source": [
    "def adjacent(matrix, vertice):\n",
    "    \n",
    "    adjacents = []\n",
    "    \n",
    "    for i in range(len(matrix)):\n",
    "        if matrix[vertice - 1][i] != 0 and i != vertice - 1:\n",
    "            adjacents.append(i+1)\n",
    "    return adjacents"
   ]
  },
  {
   "cell_type": "code",
   "execution_count": 18,
   "id": "b5bb6a70",
   "metadata": {},
   "outputs": [],
   "source": [
    "def extractCheapest(queue):\n",
    "    \n",
    "    element = queue[0]\n",
    "    queue = np.delete(queue, 0)\n",
    "    \n",
    "    return element, queue"
   ]
  },
  {
   "cell_type": "code",
   "execution_count": 19,
   "id": "f755f7a9",
   "metadata": {},
   "outputs": [
    {
     "name": "stdout",
     "output_type": "stream",
     "text": [
      "========== start ==========\n",
      "=========== end ===========\n"
     ]
    }
   ],
   "source": [
    "if __name__ == \"__main__\":\n",
    "    \n",
    "\n",
    "    print(\"========== start ==========\")\n",
    "    \n",
    "    sizes = np.arange(1,100,5)\n",
    "    comparisons_array = []\n",
    "    \n",
    "    for size in sizes:\n",
    "        source = 1\n",
    "        graph = generateGraph(size)\n",
    "        x, comparisons = dijkstra(graph, source)\n",
    "        comparisons_array.append(comparisons)\n",
    "    \n",
    "    print(\"=========== end ===========\")"
   ]
  },
  {
   "cell_type": "code",
   "execution_count": 20,
   "id": "de852599",
   "metadata": {},
   "outputs": [
    {
     "data": {
      "text/plain": [
       "Text(0.5, 1.0, 'Key Comparisons against Array Size')"
      ]
     },
     "execution_count": 20,
     "metadata": {},
     "output_type": "execute_result"
    },
    {
     "data": {
      "image/png": "[encoded data removed]",
      "text/plain": [
       "<Figure size 1440x1440 with 1 Axes>"
      ]
     },
     "metadata": {
      "needs_background": "light"
     },
     "output_type": "display_data"
    }
   ],
   "source": [
    "f = plt.figure(figsize=(20,20))\n",
    "ax = f.add_subplot(211)\n",
    "ax.plot(sizes, comparisons_array)\n",
    "# ax.plot(sizes, theorectical_comparisons)\n",
    "ax.set_xlabel(\"Array Size, n\")\n",
    "ax.set_ylabel(\"Key Comparisons\")\n",
    "ax.set_title(\"Key Comparisons against Array Size\")"
   ]
  },
  {
   "cell_type": "code",
   "execution_count": null,
   "id": "6990f1d9",
   "metadata": {},
   "outputs": [],
   "source": []
  }
 ],
 "metadata": {
  "kernelspec": {
   "display_name": "Python 3 (ipykernel)",
   "language": "python",
   "name": "python3"
  },
  "language_info": {
   "codemirror_mode": {
    "name": "ipython",
    "version": 3
   },
   "file_extension": ".py",
   "mimetype": "text/x-python",
   "name": "python",
   "nbconvert_exporter": "python",
   "pygments_lexer": "ipython3",
   "version": "3.9.9"
  }
 },
 "nbformat": 4,
 "nbformat_minor": 5
}
