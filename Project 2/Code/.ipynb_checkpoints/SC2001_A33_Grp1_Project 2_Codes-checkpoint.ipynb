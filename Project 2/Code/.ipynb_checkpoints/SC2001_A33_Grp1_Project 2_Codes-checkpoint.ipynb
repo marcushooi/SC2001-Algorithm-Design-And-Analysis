{
 "cells": [
  {
   "cell_type": "markdown",
   "id": "f5dc100b",
   "metadata": {},
   "source": [
    "# SC2001 Project 2 (Lab Group A33, Group 1)\n",
    "## The Dijkstra’s Algorithm\n"
   ]
  },
  {
   "cell_type": "markdown",
   "id": "4c90f43e",
   "metadata": {},
   "source": [
    "> In the Dijkstra’s algorithm, the choice of the input graph representation and the priority queue implementation will affect its time complexity. \n"
   ]
  },
  {
   "cell_type": "code",
   "execution_count": 3,
   "id": "c8884b07",
   "metadata": {},
   "outputs": [
    {
     "ename": "ModuleNotFoundError",
     "evalue": "No module named 'matplotlib'",
     "output_type": "error",
     "traceback": [
      "\u001b[1;31m---------------------------------------------------------------------------\u001b[0m",
      "\u001b[1;31mModuleNotFoundError\u001b[0m                       Traceback (most recent call last)",
      "Cell \u001b[1;32mIn[3], line 9\u001b[0m\n\u001b[0;32m      7\u001b[0m \u001b[39mimport\u001b[39;00m \u001b[39mtime\u001b[39;00m\n\u001b[0;32m      8\u001b[0m \u001b[39mimport\u001b[39;00m \u001b[39mheapq\u001b[39;00m\n\u001b[1;32m----> 9\u001b[0m \u001b[39mimport\u001b[39;00m \u001b[39mmatplotlib\u001b[39;00m\u001b[39m.\u001b[39;00m\u001b[39mpyplot\u001b[39;00m \u001b[39mas\u001b[39;00m \u001b[39mplt\u001b[39;00m\n",
      "\u001b[1;31mModuleNotFoundError\u001b[0m: No module named 'matplotlib'"
     ]
    }
   ],
   "source": [
    "# Imports\n",
    "import numpy as np\n",
    "import pandas as pd\n",
    "import math\n",
    "import random\n",
    "from random import randint\n",
    "import time\n",
    "import heapq\n",
    "import matplotlib.pyplot as plt"
   ]
  },
  {
   "cell_type": "markdown",
   "id": "d72033fc",
   "metadata": {},
   "source": [
    "> (a) Suppose the input graph G = (V, E) is stored in an adjacency matrix and we\n",
    "use an array for the priority queue. Implement the Dijkstra’s algorithm using this\n",
    "setting and analyze its time complexity with respect to |V| and |E| both\n",
    "theoretically and empirically."
   ]
  },
  {
   "cell_type": "code",
   "execution_count": 49,
   "id": "eab79e0b",
   "metadata": {},
   "outputs": [
    {
     "name": "stdout",
     "output_type": "stream",
     "text": [
      "[[0 8 2 6 0]\n",
      " [8 0 3 7 8]\n",
      " [2 3 0 1 3]\n",
      " [6 7 1 0 0]\n",
      " [0 8 3 0 0]]\n"
     ]
    }
   ],
   "source": [
    "def generateGraph(num_of_vertices, num_of_edges):\n",
    "    \n",
    "    matrix = np.zeros((num_of_vertices,num_of_vertices)).astype(int)\n",
    "\n",
    "    edge_count = 0\n",
    "    for i in range(num_of_vertices):\n",
    "        j = i + 1\n",
    "        for j in range(num_of_vertices):\n",
    "            edge_exist = random.randint(0,2)\n",
    "            if edge_exist > 0 and i != j and edge_count != num_of_edges:\n",
    "                dist = random.randint(1,10)\n",
    "                matrix[i,j] = dist\n",
    "                matrix[j,i] = dist\n",
    "                edge_count += 1\n",
    "\n",
    "    return matrix\n",
    "\n",
    "############# TEST #############\n",
    "random.seed(10)\n",
    "print(generateGraph(5, 10))"
   ]
  },
  {
   "cell_type": "markdown",
   "id": "1f6e1a78",
   "metadata": {},
   "source": [
    "### Priority Queue using array"
   ]
  },
  {
   "cell_type": "code",
   "execution_count": 44,
   "id": "1c691bac",
   "metadata": {},
   "outputs": [],
   "source": [
    "#Implementation of Priority Queue using a queue\n",
    "\n",
    "class PriorityQueue(object):\n",
    "    \n",
    "    def __init__(self):\n",
    "        self.queue = []\n",
    "        \n",
    "    def __str__(self):\n",
    "        return ' '.join([str(i) for i in self.queue])\n",
    "    \n",
    "    def length(self):\n",
    "        return len(self.queue)     \n",
    "    \n",
    "    # insert element into queue\n",
    "    def insert(self, num):\n",
    "        self.queue.append(num)\n",
    "        \n",
    "    # check for empty queue\n",
    "    def isEmptyQueue(self):\n",
    "        return len(self.queue) == 0\n",
    "        \n",
    "    # pop element with highest priority\n",
    "    def pop(self):\n",
    "        \n",
    "        min = -1\n",
    "        \n",
    "        for i in range(len(self.queue)):\n",
    "            \n",
    "            if self.queue[i][0] < self.queue[min][0]:\n",
    "                min = i\n",
    "                \n",
    "            element = self.queue[min]\n",
    "            del self.queue[min]\n",
    "            \n",
    "            return element\n",
    "        \n",
    "    def remove(self, temp):\n",
    "        \n",
    "        for i in range(len(self.queue)):\n",
    "            \n",
    "            if self.queue[i][1] == temp:\n",
    "                \n",
    "                del self.queue[i]\n",
    "                break"
   ]
  },
  {
   "cell_type": "code",
   "execution_count": 45,
   "id": "8ca99c13",
   "metadata": {},
   "outputs": [
    {
     "name": "stdout",
     "output_type": "stream",
     "text": [
      "0 7 6 5 4 \n",
      "Shortest distance from source to target: 21\n"
     ]
    }
   ],
   "source": [
    "import sys\n",
    "\n",
    "# function to find vertex with minimum distance value, from the set of vertices not yet included in shortest path tree\n",
    "# sptSet is the solution set\n",
    "# sys.maxSize to initialise the distance to a large number initially\n",
    "def min_distance(dist, sptSet, V):\n",
    "    min_dist = sys.maxsize\n",
    "    min_vertex = 0\n",
    "\n",
    "    for v in range(V):\n",
    "        if dist[v] < min_dist and sptSet[v] == False:\n",
    "            min_dist = dist[v]\n",
    "            min_vertex = v\n",
    "\n",
    "    return min_vertex\n",
    "\n",
    "# function to print the shortest path from source to target\n",
    "def print_path(parent, target):\n",
    "    if parent[target] == -1:\n",
    "        print(target, end=' ')\n",
    "        return\n",
    "    print_path(parent, parent[target])\n",
    "    print(target, end=' ')\n",
    "\n",
    "# function to implement Dijkstra's algorithm\n",
    "def dijkstra(adj_matrix, source, target, V):\n",
    "    # initialize all distances as infinity and sptSet as False\n",
    "    dist = [sys.maxsize] * V\n",
    "    sptSet = [False] * V\n",
    "    parent = [-1] * V\n",
    "\n",
    "    # distance of source vertex from itself is always 0\n",
    "    dist[source] = 0\n",
    "\n",
    "    # iterate V-1 times to find shortest path for all vertices\n",
    "    for _ in range(V-1):\n",
    "        # find the vertex with minimum distance value from the set of vertices not yet included in shortest path tree\n",
    "        u = min_distance(dist, sptSet, V)\n",
    "        # mark the selected vertex as processed\n",
    "        sptSet[u] = True\n",
    "\n",
    "        # update distance value of adjacent vertices of the selected vertex\n",
    "        for v in range(V):\n",
    "            if adj_matrix[u][v] > 0 and sptSet[v] == False and dist[v] > dist[u] + adj_matrix[u][v]:\n",
    "                dist[v] = dist[u] + adj_matrix[u][v]\n",
    "                parent[v] = u\n",
    "\n",
    "    # print the shortest path from source to target\n",
    "    print_path(parent, target)\n",
    "    print(\"\\nShortest distance from source to target:\", dist[target])\n",
    "\n",
    "# test the implementation\n",
    "if __name__ == '__main__':\n",
    "    # initialize the graph as an adjacency matrix\n",
    "    graph = [[0, 4, 0, 0, 0, 0, 0, 8, 0],\n",
    "             [4, 0, 8, 0, 0, 0, 0, 11, 0],\n",
    "             [0, 8, 0, 7, 0, 4, 0, 0, 2],\n",
    "             [0, 0, 7, 0, 9, 14, 0, 0, 0],\n",
    "             [0, 0, 0, 9, 0, 10, 0, 0, 0],\n",
    "             [0, 0, 4, 14, 10, 0, 2, 0, 0],\n",
    "             [0, 0, 0, 0, 0, 2, 0, 1, 6],\n",
    "             [8, 11, 0, 0, 0, 0, 1, 0, 7],\n",
    "             [0, 0, 2, 0, 0, 0, 6, 7, 0]]\n",
    "\n",
    "    V = len(graph)\n",
    "\n",
    "    source = 0\n",
    "    target = 4\n",
    "\n",
    "    dijkstra(graph, source, target, V)\n"
   ]
  },
  {
   "cell_type": "code",
   "execution_count": 47,
   "id": "7c6ccc17",
   "metadata": {},
   "outputs": [
    {
     "name": "stdout",
     "output_type": "stream",
     "text": [
      "6 \n",
      "Shortest distance from source to target: 9223372036854775807\n",
      "Graph with 10 nodes and density 0.1 took 0.0 seconds\n",
      "6 \n",
      "Shortest distance from source to target: 9223372036854775807\n",
      "Graph with 10 nodes and density 0.01 took 0.0 seconds\n",
      "0 \n",
      "Shortest distance from source to target: 9223372036854775807\n",
      "Graph with 10 nodes and density 0.001 took 0.0 seconds\n",
      "95 71 \n",
      "Shortest distance from source to target: 5\n",
      "Graph with 100 nodes and density 0.1 took 0.002000570297241211 seconds\n",
      "0 \n",
      "Shortest distance from source to target: 9223372036854775807\n",
      "Graph with 100 nodes and density 0.01 took 0.0009970664978027344 seconds\n",
      "24 \n",
      "Shortest distance from source to target: 9223372036854775807\n",
      "Graph with 100 nodes and density 0.001 took 0.0009996891021728516 seconds\n",
      "710 427 566 \n",
      "Shortest distance from source to target: 3\n",
      "Graph with 1000 nodes and density 0.1 took 0.1112966537475586 seconds\n",
      "268 170 69 592 478 733 413 93 \n",
      "Shortest distance from source to target: 11\n",
      "Graph with 1000 nodes and density 0.01 took 0.10595464706420898 seconds\n",
      "374 \n",
      "Shortest distance from source to target: 9223372036854775807\n",
      "Graph with 1000 nodes and density 0.001 took 0.08710336685180664 seconds\n"
     ]
    }
   ],
   "source": [
    "import time\n",
    "\n",
    "def generate_random_graph(num_nodes, density):\n",
    "    # generates a random graph with num_nodes and density\n",
    "    graph = [[0 for _ in range(num_nodes)] for _ in range(num_nodes)]\n",
    "    for i in range(num_nodes):\n",
    "        for j in range(i+1, num_nodes):\n",
    "            if random.random() < density:\n",
    "                weight = random.randint(1, 10)\n",
    "                graph[i][j] = weight\n",
    "                graph[j][i] = weight\n",
    "    return graph\n",
    "\n",
    "def test_dijkstra(num_nodes, density):\n",
    "    # generates a random graph and tests Dijkstra's algorithm\n",
    "    graph = generate_random_graph(num_nodes, density)\n",
    "    source = random.randint(0, num_nodes-1)\n",
    "    target = random.randint(0, num_nodes-1)\n",
    "    start_time = time.time()\n",
    "    dijkstra(graph, source, target, num_nodes)\n",
    "    end_time = time.time()\n",
    "    print(\"Graph with\", num_nodes, \"nodes and density\", density, \"took\", end_time - start_time, \"seconds\")\n",
    "\n",
    "# test the implementation for random graphs of different sizes and densities\n",
    "import random\n",
    "for num_nodes in [10, 100, 1000]:\n",
    "    for density in [0.1, 0.01, 0.001]:\n",
    "        test_dijkstra(num_nodes, density)\n"
   ]
  },
  {
   "cell_type": "markdown",
   "id": "17c4d5a6",
   "metadata": {},
   "source": [
    "> (b) Suppose the input graph G = (V, E) is stored in an array of adjacency lists and\n",
    "we use a minimizing heap for the priority queue. Implement the Dijkstra’s\n",
    "algorithm using this setting and analyze its time complexity with respect to |V|\n",
    "and |E| both theoretically and empirically. "
   ]
  },
  {
   "cell_type": "code",
   "execution_count": null,
   "id": "18a8ecaa",
   "metadata": {},
   "outputs": [],
   "source": [
    "# Insert Code Here"
   ]
  },
  {
   "cell_type": "markdown",
   "id": "686cc9ca",
   "metadata": {},
   "source": [
    "> (c) Compare the two implementations in (a) and (b). Discuss which implementation\n",
    "is better and in what circumstances. "
   ]
  },
  {
   "cell_type": "code",
   "execution_count": null,
   "id": "848ac551",
   "metadata": {},
   "outputs": [],
   "source": [
    "# Insert Code Here"
   ]
  }
 ],
 "metadata": {
  "kernelspec": {
   "display_name": "Python 3",
   "language": "python",
   "name": "python3"
  },
  "language_info": {
   "codemirror_mode": {
    "name": "ipython",
    "version": 3
   },
   "file_extension": ".py",
   "mimetype": "text/x-python",
   "name": "python",
   "nbconvert_exporter": "python",
   "pygments_lexer": "ipython3",
   "version": "3.11.2"
  },
  "vscode": {
   "interpreter": {
    "hash": "9f4f432388de241db987deb4a7531a2905155786a6bf97a6b30b12f628eeae89"
   }
  }
 },
 "nbformat": 4,
 "nbformat_minor": 5
}
