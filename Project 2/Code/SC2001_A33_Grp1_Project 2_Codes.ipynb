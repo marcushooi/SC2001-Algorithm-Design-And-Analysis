{
 "cells": [
  {
   "cell_type": "markdown",
   "id": "f5dc100b",
   "metadata": {},
   "source": [
    "# SC2001 Project 2 (Lab Group A33, Group 1)\n",
    "## The Dijkstra’s Algorithm\n"
   ]
  },
  {
   "cell_type": "markdown",
   "id": "4c90f43e",
   "metadata": {},
   "source": [
    "> In the Dijkstra’s algorithm, the choice of the input graph representation and the priority queue implementation will affect its time complexity. \n"
   ]
  },
  {
   "cell_type": "code",
   "execution_count": 2,
   "id": "c8884b07",
   "metadata": {},
   "outputs": [],
   "source": [
    "# Imports\n",
    "import time\n",
    "import copy\n",
    "import pandas as pd\n",
    "import numpy as np\n",
    "import matplotlib.pyplot as plt\n",
    "\n",
    "# Setting seed to ensure that our data does not change in the future.\n",
    "np.random.seed(22)"
   ]
  },
  {
   "cell_type": "markdown",
   "id": "d72033fc",
   "metadata": {},
   "source": [
    "> (a) Suppose the input graph G = (V, E) is stored in an adjacency matrix and we\n",
    "use an array for the priority queue. Implement the Dijkstra’s algorithm using this\n",
    "setting and analyze its time complexity with respect to |V| and |E| both\n",
    "theoretically and empirically."
   ]
  },
  {
   "cell_type": "code",
   "execution_count": null,
   "id": "1c691bac",
   "metadata": {},
   "outputs": [],
   "source": [
    "# Insert Code Here"
   ]
  },
  {
   "cell_type": "markdown",
   "id": "17c4d5a6",
   "metadata": {},
   "source": [
    "> (b) Suppose the input graph G = (V, E) is stored in an array of adjacency lists and\n",
    "we use a minimizing heap for the priority queue. Implement the Dijkstra’s\n",
    "algorithm using this setting and analyze its time complexity with respect to |V|\n",
    "and |E| both theoretically and empirically. "
   ]
  },
  {
   "cell_type": "code",
   "execution_count": null,
   "id": "18a8ecaa",
   "metadata": {},
   "outputs": [],
   "source": [
    "# Insert Code Here"
   ]
  },
  {
   "cell_type": "markdown",
   "id": "686cc9ca",
   "metadata": {},
   "source": [
    "> (c) Compare the two implementations in (a) and (b). Discuss which implementation\n",
    "is better and in what circumstances. "
   ]
  },
  {
   "cell_type": "code",
   "execution_count": null,
   "id": "848ac551",
   "metadata": {},
   "outputs": [],
   "source": [
    "# Insert Code Here"
   ]
  }
 ],
 "metadata": {
  "kernelspec": {
   "display_name": "Python 3",
   "language": "python",
   "name": "python3"
  },
  "language_info": {
   "codemirror_mode": {
    "name": "ipython",
    "version": 3
   },
   "file_extension": ".py",
   "mimetype": "text/x-python",
   "name": "python",
   "nbconvert_exporter": "python",
   "pygments_lexer": "ipython3",
   "version": "3.8.8"
  }
 },
 "nbformat": 4,
 "nbformat_minor": 5
}
